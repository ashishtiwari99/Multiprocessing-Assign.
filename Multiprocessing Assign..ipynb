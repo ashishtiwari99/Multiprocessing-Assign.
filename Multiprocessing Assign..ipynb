{
 "cells": [
  {
   "cell_type": "code",
   "execution_count": 1,
   "id": "d25960a7-cc7f-435c-afcf-f300e9bb622e",
   "metadata": {},
   "outputs": [],
   "source": [
    "#(Question.1)\n",
    "#Multiprocessing in Python-Multiprocessing in Python is a built-in package that allows the system to run multiple processes simultaneously. It will enable the breaking of applications into smaller threads that can run independently. The operating system can then allocate all these threads or processes to the processor to run them parallelly, thus improving the overall performance and efficiency.\n",
    "\n",
    "#Why Use Multiprocessing In Python-Performing multiple operations for a single processor becomes challenging. As the number of processes keeps increasing, the processor will have to halt the current process and move to the next, to keep them going. Thus, it will have to interrupt each task, thereby hampering the performance."
   ]
  },
  {
   "cell_type": "code",
   "execution_count": 3,
   "id": "69eb9b16-610e-402b-9734-b93f20d7367a",
   "metadata": {},
   "outputs": [],
   "source": [
    "#(Question.2)\n",
    "#Multithreading vs. multiprocessing\n",
    "    #Multiprocessing uses two or more CPUs to increase computing power, whereas multithreading uses a single process with multiple code segments to increase computing power.\n",
    "\n",
    "    #Multithreading focuses on generating computing threads from a single process, whereas multiprocessing increases computing power by adding CPUs.\n",
    "\n",
    "    #Multiprocessing is used to create a more reliable system, whereas multithreading is used to create threads that run parallel to each other.\n",
    "\n",
    "    #multithreading is quick to create and requires few resources, whereas multiprocessing requires a significant amount of time and specific resources to create.\n",
    "\n",
    "    #Multiprocessing executes many processes simultaneously, whereas multithreading executes many threads simultaneously.\n",
    "\n",
    "    #Multithreading uses a common address space for all the threads, whereas multiprocessing creates a separate address space for each process."
   ]
  },
  {
   "cell_type": "code",
   "execution_count": 2,
   "id": "26a67085-b983-4fd2-b355-e7a88079a173",
   "metadata": {},
   "outputs": [],
   "source": [
    "#(question-3)\n",
    "import multiprocessing\n",
    "import logging\n",
    "logging.basicConfig(filename='multiprocessing_log.log', level=logging.INFO)\n",
    "\n",
    "def my_function():\n",
    "    logging.info(\"Child process is running.\")\n",
    "    for i in range(1, 4):\n",
    "        logging.info(f\"Child process working, step {i}\")\n",
    "    logging.info(\"Child process completed its work.\")\n",
    "\n",
    "if __name__ == \"__main__\":\n",
    "    child_process = multiprocessing.Process(target=my_function)"
   ]
  },
  {
   "cell_type": "code",
   "execution_count": 3,
   "id": "e79a086b-012c-436c-b11b-ee29ed64670e",
   "metadata": {},
   "outputs": [],
   "source": [
    "child_process.start()"
   ]
  },
  {
   "cell_type": "code",
   "execution_count": 4,
   "id": "3e70be4c-d420-41b3-80d9-018fb0cfab72",
   "metadata": {},
   "outputs": [],
   "source": [
    "child_process.join()"
   ]
  },
  {
   "cell_type": "code",
   "execution_count": 5,
   "id": "b0e6f062-dfc0-4710-b2ab-e026cb9999ba",
   "metadata": {},
   "outputs": [],
   "source": [
    "logging.info(\"Main process is done\")"
   ]
  },
  {
   "cell_type": "code",
   "execution_count": 4,
   "id": "50a3a0e1-b6f7-48b3-9f0f-a9fe9295480e",
   "metadata": {},
   "outputs": [],
   "source": [
    "#(question-4)\n",
    "#The deployment of two or even more central processing units throughout a processor system is known as multiprocessing. The system’s functionality could be considerably improved by multiprocessing. Python only utilizes one central processing unit because of GIL. Unlike C language or Java language, which instantly employ multiprocessing. It is a plug that only enables one process to run simultaneously. The multiprocessing package in Python, therefore, may address that issue. There are two modes in this unit which include Process and the Pool. These can help us execute a specific chunk of code concurrently.\n",
    "#Why Multiprocessing pool use in python\n",
    "#Python multiprocessing Pool can be used for parallel execution of a function across multiple input values, distributing the input data across processes (data parallelism)."
   ]
  },
  {
   "cell_type": "code",
   "execution_count": 13,
   "id": "f35da2ca-45f0-4956-8e65-b14a04911526",
   "metadata": {},
   "outputs": [],
   "source": [
    "#(Question.5)\n",
    "import multiprocessing\n",
    "import logging\n",
    "\n",
    "logging.basicConfig(filename='multiprocessing_pool_log.log', level=logging.INFO)\n",
    "\n",
    "def process_data(data):\n",
    "    logging.info(f\"Processing data: {data}\")\n",
    "    result = data * 2\n",
    "    logging.info(f\"Processed data: {result}\")\n",
    "    return result\n",
    "\n",
    "if __name__ == \"__main__\":\n",
    "    pool = multiprocessing.Pool(processes=4)  \n"
   ]
  },
  {
   "cell_type": "code",
   "execution_count": 7,
   "id": "df8bb9fc-4074-4c5a-bd21-db92ca667a58",
   "metadata": {},
   "outputs": [],
   "source": [
    "data = [4,5,6,7,8]"
   ]
  },
  {
   "cell_type": "code",
   "execution_count": 8,
   "id": "acbc3fc6-52fa-4cdf-a1b6-dff1c1f21ec5",
   "metadata": {},
   "outputs": [],
   "source": [
    "results = pool.map(process_data, data)"
   ]
  },
  {
   "cell_type": "code",
   "execution_count": 9,
   "id": "06ee3602-f817-4dda-9985-7004f8f21b93",
   "metadata": {},
   "outputs": [],
   "source": [
    "pool.close()"
   ]
  },
  {
   "cell_type": "code",
   "execution_count": 10,
   "id": "02bf88fe-c97a-4b39-a05b-3204d2a08704",
   "metadata": {},
   "outputs": [],
   "source": [
    "pool.join()"
   ]
  },
  {
   "cell_type": "code",
   "execution_count": 12,
   "id": "f0b03973-a038-466e-a80e-64df69751d8d",
   "metadata": {},
   "outputs": [
    {
     "name": "stdout",
     "output_type": "stream",
     "text": [
      "[8, 10, 12, 14, 16]\n"
     ]
    }
   ],
   "source": [
    "logging.info(\"All process is done.\")\n",
    "print(results)"
   ]
  },
  {
   "cell_type": "code",
   "execution_count": null,
   "id": "2ce33f90-0723-4749-835f-9b8a767483dc",
   "metadata": {},
   "outputs": [],
   "source": [
    "#"
   ]
  }
 ],
 "metadata": {
  "kernelspec": {
   "display_name": "Python 3 (ipykernel)",
   "language": "python",
   "name": "python3"
  },
  "language_info": {
   "codemirror_mode": {
    "name": "ipython",
    "version": 3
   },
   "file_extension": ".py",
   "mimetype": "text/x-python",
   "name": "python",
   "nbconvert_exporter": "python",
   "pygments_lexer": "ipython3",
   "version": "3.10.8"
  }
 },
 "nbformat": 4,
 "nbformat_minor": 5
}
